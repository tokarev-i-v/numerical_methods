{
 "cells": [
  {
   "cell_type": "markdown",
   "metadata": {},
   "source": [
    "Euler method:\n",
    "\n",
    "$$\n",
    "    y_{n+1} = y_n + hf(t_n, y_n)\n",
    "$$"
   ]
  },
  {
   "cell_type": "code",
   "execution_count": 2,
   "metadata": {},
   "outputs": [],
   "source": [
    "import numpy as np\n",
    "#Euler method\n",
    "fringes = [0, 100]\n",
    "N = 1000\n",
    "h = (fringes[1] - fringes[0])/N\n",
    "t_cur = fringes[0]\n",
    "y_s = []\n",
    "x_s = []\n",
    "f = np.cos\n",
    "y = f(t_cur)\n",
    "x_s.append(t_cur)\n",
    "y = f(t_cur)\n",
    "y_s.append(y)\n",
    "t_cur = t_cur+h\n",
    "while t_cur < fringes[1]:\n",
    "    t_cur = t_cur+h\n",
    "    x_s.append(t_cur)\n",
    "    y = y + h*f(t_cur)\n",
    "    y_s.append(y)"
   ]
  },
  {
   "cell_type": "markdown",
   "metadata": {},
   "source": [
    "Runge-Kutta's method:\n",
    "\n",
    "$$\n",
    "    y_{n+1} = y_n + 1/6(k_1 + k_2 + k_3 + k_4)\n",
    "$$\n",
    "\n",
    "$$\n",
    "    k_1 = hf(t_n,y_n)\n",
    "$$\n",
    "\n",
    "$$\n",
    "    k_2 = hf(t_n + h/2, y_n + k_1/2)\n",
    "$$\n",
    "\n",
    "$$\n",
    "    k_3 = hf(t_n + h/2, y_n + k_2/2)\n",
    "$$\n",
    "\n",
    "$$\n",
    "    k_4 = hf(t_n + h, y_n + k_3)\n",
    "$$\n"
   ]
  },
  {
   "cell_type": "code",
   "execution_count": 3,
   "metadata": {},
   "outputs": [
    {
     "ename": "TypeError",
     "evalue": "return arrays must be of ArrayType",
     "output_type": "error",
     "traceback": [
      "\u001b[1;31m---------------------------------------------------------------------------\u001b[0m",
      "\u001b[1;31mTypeError\u001b[0m                                 Traceback (most recent call last)",
      "\u001b[1;32m<ipython-input-3-ec4ac6778139>\u001b[0m in \u001b[0;36m<module>\u001b[1;34m\u001b[0m\n\u001b[0;32m     24\u001b[0m     \u001b[0mt_cur\u001b[0m \u001b[1;33m=\u001b[0m \u001b[0mt_cur\u001b[0m\u001b[1;33m+\u001b[0m\u001b[0mh\u001b[0m\u001b[1;33m\u001b[0m\u001b[1;33m\u001b[0m\u001b[0m\n\u001b[0;32m     25\u001b[0m     \u001b[0mx_s\u001b[0m\u001b[1;33m.\u001b[0m\u001b[0mappend\u001b[0m\u001b[1;33m(\u001b[0m\u001b[0mt_cur\u001b[0m\u001b[1;33m)\u001b[0m\u001b[1;33m\u001b[0m\u001b[1;33m\u001b[0m\u001b[0m\n\u001b[1;32m---> 26\u001b[1;33m     \u001b[0my\u001b[0m \u001b[1;33m=\u001b[0m \u001b[0mrk\u001b[0m\u001b[1;33m(\u001b[0m\u001b[0mf\u001b[0m\u001b[1;33m,\u001b[0m \u001b[0my\u001b[0m\u001b[1;33m,\u001b[0m \u001b[0mh\u001b[0m\u001b[1;33m,\u001b[0m \u001b[0mt_cur\u001b[0m\u001b[1;33m)\u001b[0m\u001b[1;33m\u001b[0m\u001b[1;33m\u001b[0m\u001b[0m\n\u001b[0m\u001b[0;32m     27\u001b[0m     \u001b[0my_s\u001b[0m\u001b[1;33m.\u001b[0m\u001b[0mappend\u001b[0m\u001b[1;33m(\u001b[0m\u001b[0my\u001b[0m\u001b[1;33m)\u001b[0m\u001b[1;33m\u001b[0m\u001b[1;33m\u001b[0m\u001b[0m\n",
      "\u001b[1;32m<ipython-input-3-ec4ac6778139>\u001b[0m in \u001b[0;36mrk\u001b[1;34m(f, y, h, t)\u001b[0m\n\u001b[0;32m      1\u001b[0m \u001b[1;32mdef\u001b[0m \u001b[0mrk\u001b[0m\u001b[1;33m(\u001b[0m\u001b[0mf\u001b[0m\u001b[1;33m,\u001b[0m \u001b[0my\u001b[0m\u001b[1;33m,\u001b[0m \u001b[0mh\u001b[0m\u001b[1;33m,\u001b[0m \u001b[0mt\u001b[0m\u001b[1;33m)\u001b[0m\u001b[1;33m:\u001b[0m\u001b[1;33m\u001b[0m\u001b[1;33m\u001b[0m\u001b[0m\n\u001b[1;32m----> 2\u001b[1;33m     \u001b[0mk_1\u001b[0m \u001b[1;33m=\u001b[0m \u001b[0mh\u001b[0m\u001b[1;33m*\u001b[0m\u001b[0mf\u001b[0m\u001b[1;33m(\u001b[0m\u001b[0mt\u001b[0m\u001b[1;33m,\u001b[0m \u001b[0my\u001b[0m\u001b[1;33m)\u001b[0m\u001b[1;33m\u001b[0m\u001b[1;33m\u001b[0m\u001b[0m\n\u001b[0m\u001b[0;32m      3\u001b[0m     \u001b[0mk_2\u001b[0m \u001b[1;33m=\u001b[0m \u001b[0mh\u001b[0m\u001b[1;33m*\u001b[0m\u001b[0mf\u001b[0m\u001b[1;33m(\u001b[0m\u001b[0mt\u001b[0m \u001b[1;33m+\u001b[0m \u001b[0mh\u001b[0m\u001b[1;33m/\u001b[0m\u001b[1;36m2\u001b[0m\u001b[1;33m,\u001b[0m \u001b[0my\u001b[0m \u001b[1;33m+\u001b[0m \u001b[0mk_1\u001b[0m\u001b[1;33m/\u001b[0m\u001b[1;36m2\u001b[0m\u001b[1;33m)\u001b[0m\u001b[1;33m\u001b[0m\u001b[1;33m\u001b[0m\u001b[0m\n\u001b[0;32m      4\u001b[0m     \u001b[0mk_3\u001b[0m \u001b[1;33m=\u001b[0m \u001b[0mh\u001b[0m\u001b[1;33m*\u001b[0m\u001b[0mf\u001b[0m\u001b[1;33m(\u001b[0m\u001b[0mt\u001b[0m \u001b[1;33m+\u001b[0m \u001b[0mh\u001b[0m\u001b[1;33m/\u001b[0m\u001b[1;36m2\u001b[0m\u001b[1;33m,\u001b[0m \u001b[0my\u001b[0m \u001b[1;33m+\u001b[0m \u001b[0mk_2\u001b[0m\u001b[1;33m/\u001b[0m\u001b[1;36m2\u001b[0m\u001b[1;33m)\u001b[0m\u001b[1;33m\u001b[0m\u001b[1;33m\u001b[0m\u001b[0m\n\u001b[0;32m      5\u001b[0m     \u001b[0mk_4\u001b[0m \u001b[1;33m=\u001b[0m \u001b[0mh\u001b[0m\u001b[1;33m*\u001b[0m\u001b[0mf\u001b[0m\u001b[1;33m(\u001b[0m\u001b[0mt\u001b[0m \u001b[1;33m+\u001b[0m \u001b[0mh\u001b[0m\u001b[1;33m,\u001b[0m \u001b[0my\u001b[0m \u001b[1;33m+\u001b[0m \u001b[0mk_3\u001b[0m\u001b[1;33m)\u001b[0m\u001b[1;33m\u001b[0m\u001b[1;33m\u001b[0m\u001b[0m\n",
      "\u001b[1;31mTypeError\u001b[0m: return arrays must be of ArrayType"
     ]
    }
   ],
   "source": [
    "def rk(f, y, h, t):\n",
    "    k_1 = h*f(t, y)\n",
    "    k_2 = h*f(t + h/2, y + k_1/2)\n",
    "    k_3 = h*f(t + h/2, y + k_2/2)\n",
    "    k_4 = h*f(t + h, y + k_3)\n",
    "    y_n_1 = y + 1/6*(k_1+k_2+k_3+k_4)\n",
    "    return y_n_1\n",
    "\n",
    "import numpy as np\n",
    "#Euler method\n",
    "fringes = [0, 100]\n",
    "N = 1000\n",
    "h = (fringes[1] - fringes[0])/N\n",
    "t_cur = fringes[0]\n",
    "y_s = []\n",
    "x_s = []\n",
    "f = np.cos\n",
    "y = f(t_cur)\n",
    "x_s.append(t_cur)\n",
    "y = f(t_cur)\n",
    "y_s.append(y)\n",
    "t_cur = t_cur+h\n",
    "while t_cur < fringes[1]:\n",
    "    t_cur = t_cur+h\n",
    "    x_s.append(t_cur)\n",
    "    y = rk(f, y, h, t_cur)\n",
    "    y_s.append(y)"
   ]
  },
  {
   "cell_type": "code",
   "execution_count": 15,
   "metadata": {},
   "outputs": [
    {
     "data": {
      "image/png": "[encoded data removed]",
      "text/plain": [
       "<Figure size 432x288 with 1 Axes>"
      ]
     },
     "metadata": {
      "needs_background": "light"
     },
     "output_type": "display_data"
    },
    {
     "data": {
      "image/png": "[encoded data removed]",
      "text/plain": [
       "<Figure size 432x288 with 1 Axes>"
      ]
     },
     "metadata": {
      "needs_background": "light"
     },
     "output_type": "display_data"
    }
   ],
   "source": [
    "import numpy as np\n",
    "def rk4Algor (t , h , N, y , f ) :\n",
    "    k1=np.zeros(N); \n",
    "    k2=np.zeros(N)\n",
    "    k3=np.zeros(N)\n",
    "    k4=np.zeros(N)\n",
    "    k1 = h*f(t,y)\n",
    "    k2 = h*f(t+h/2.,y+k1/2.)\n",
    "    k3 = h*f(t+h/2.,y+k2 /2.)\n",
    "    k4 = h*f(t+h,y+k3)\n",
    "    y=y+(k1+2*(k2+k3)+k4)/6.\n",
    "    return y\n",
    "\n",
    "from numpy import *\n",
    "import numpy as np , matplotlib.pyplot as plt\n",
    "Tstart = 0.\n",
    "Tend = 10.\n",
    "Nsteps = 100 # Initialization\n",
    "tt =[]\n",
    "yy =[]\n",
    "yv =[]\n",
    "y = zeros ((2),float)\n",
    "y[0] = 3. \n",
    "y[1] = -5. # I n i t i a l position & velocity\n",
    "t = Tstart\n",
    "h = (Tend-Tstart )/Nsteps\n",
    "def f (t , y) : # Force (RHS) function\n",
    "    fvector = zeros ((2) , float )\n",
    "    fvector [ 0 ] = y [ 1 ]\n",
    "    fvector [ 1 ] = -100.*y[0] -2.*y [ 1 ] + 10.* sin (3.* t )\n",
    "    return fvector\n",
    "while ( t < Tend) :\n",
    "    tt.append( t ) # Time loop\n",
    "    if(( t + h) > Tend):\n",
    "        h = Tend - t # Last step\n",
    "    y = rk4Algor(t , h , 2 , y , f )\n",
    "    yy.append(y [ 0 ] )\n",
    "    yv.append(y [ 1 ] )\n",
    "    t = t + h\n",
    "fig = plt.figure ()\n",
    "plt.subplot (111)\n",
    "plt.plot (tt,yy,'r')\n",
    "plt.title('Position versus')\n",
    "plt.xlabel('t')\n",
    "plt.ylabel('y')\n",
    "fig1=plt.figure()\n",
    "plt.subplot(111)\n",
    "plt.plot ( tt , yv)\n",
    "plt.title( 'Velocity versus time')\n",
    "plt.xlabel ('t')\n",
    "plt.ylabel ('y')\n",
    "plt.show()"
   ]
  },
  {
   "cell_type": "code",
   "execution_count": null,
   "metadata": {},
   "outputs": [],
   "source": []
  }
 ],
 "metadata": {
  "kernelspec": {
   "display_name": "Python 3",
   "language": "python",
   "name": "python3"
  },
  "language_info": {
   "codemirror_mode": {
    "name": "ipython",
    "version": 3
   },
   "file_extension": ".py",
   "mimetype": "text/x-python",
   "name": "python",
   "nbconvert_exporter": "python",
   "pygments_lexer": "ipython3",
   "version": "3.8.5"
  }
 },
 "nbformat": 4,
 "nbformat_minor": 4
}
