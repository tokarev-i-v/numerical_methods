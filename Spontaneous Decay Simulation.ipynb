{
 "cells": [
  {
   "cell_type": "code",
   "execution_count": null,
   "metadata": {},
   "outputs": [],
   "source": [
    "import numpy as np\n",
    "N = 100\n",
    "lbd = 1.5\n",
    "while N > 0:\n",
    "    DeltaN = 0\n",
    "    for i in range(0, N):\n",
    "        if r_i < lbd:\n",
    "            DeltaN = DeltaN + 1\n",
    "    t = t + 1\n",
    "    N = N - DeltaN\n",
    "    return (t, DeltaN, N)"
   ]
  }
 ],
 "metadata": {
  "kernelspec": {
   "display_name": "Python 3",
   "language": "python",
   "name": "python3"
  },
  "language_info": {
   "codemirror_mode": {
    "name": "ipython",
    "version": 3
   },
   "file_extension": ".py",
   "mimetype": "text/x-python",
   "name": "python",
   "nbconvert_exporter": "python",
   "pygments_lexer": "ipython3",
   "version": "3.8.5"
  }
 },
 "nbformat": 4,
 "nbformat_minor": 4
}
